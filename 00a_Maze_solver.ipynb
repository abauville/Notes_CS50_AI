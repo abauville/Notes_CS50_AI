{
 "cells": [
  {
   "cell_type": "markdown",
   "id": "94962ccc-890d-475d-8b80-d0ad0d766757",
   "metadata": {},
   "source": [
    "# Maze solving with the depth-first and breadth-first search algorithms\n",
    "\n",
    "The implementation roughly follows https://cs50.harvard.edu/ai/2020/notes/0/"
   ]
  },
  {
   "cell_type": "markdown",
   "id": "69ea0114-f54c-4170-b400-eb87d67cdbfc",
   "metadata": {},
   "source": [
    "# Setup"
   ]
  },
  {
   "cell_type": "code",
   "execution_count": 1,
   "id": "fbdc08ed-86b8-454b-8f3b-7abfc384f644",
   "metadata": {},
   "outputs": [],
   "source": [
    "import numpy as np\n",
    "import matplotlib.pyplot as plt"
   ]
  },
  {
   "cell_type": "markdown",
   "id": "f6f51a76-9315-49e4-ad22-cac8fb01731e",
   "metadata": {},
   "source": [
    "# Node class"
   ]
  },
  {
   "cell_type": "code",
   "execution_count": 392,
   "id": "e2a950c2-736f-4a60-a0aa-97510dae3199",
   "metadata": {},
   "outputs": [],
   "source": [
    "class Node():\n",
    "    def __init__(self, state):\n",
    "        # state: [i,j,s] where i, j are locations\n",
    "        #                      s=0: wall (but not stored), s=1: path, s=2: start, s=3: goal\n",
    "        self.state = state # state is the i,j location on the maze's grid\n",
    "        self.action = []\n",
    "        self.parent = []\n",
    "        self.path_cost = []\n",
    "        self.is_explored = False\n",
    "    def is_goal(self):\n",
    "        if self.state[2]==3: # 3 is the value for goal, see maze definition\n",
    "            return True\n",
    "        else:\n",
    "            return False\n",
    "        \n",
    "    def get_actions_results(self):\n",
    "        # Initialize actions as True (i.e., possible)\n",
    "        actions = [ {\"name\": \"left\",  \"i_mod\": 0, \"j_mod\":-1}, \n",
    "                    {\"name\": \"right\", \"i_mod\": 0, \"j_mod\": 1},\n",
    "                    {\"name\": \"up\",    \"i_mod\":-1, \"j_mod\": 0},\n",
    "                    {\"name\": \"down\",  \"i_mod\": 1, \"j_mod\": 0}]\n",
    "        I, J, s = self.state\n",
    "        \n",
    "        # I avoid checking boundary cases by having surrounded the maze by walls\n",
    "\n",
    "        possible_actions = []\n",
    "        next_nodes = []\n",
    "        for action in actions:\n",
    "            next_node = maze_nodes[I+action['i_mod']][J+action['j_mod']]\n",
    "            \n",
    "            if next_node != None and not(next_node.is_explored):\n",
    "                possible_actions.append(action)\n",
    "                next_nodes.append(next_node)\n",
    "        return possible_actions, next_nodes\n",
    "        \n",
    "\n",
    "    def expand(self):\n",
    "        possible_actions, next_nodes = self.get_actions_results()\n",
    "        return next_nodes\n",
    "    "
   ]
  },
  {
   "cell_type": "markdown",
   "id": "8a1c8a48-4306-4def-831c-f05d4ad30b2b",
   "metadata": {},
   "source": [
    "# Maze Setup"
   ]
  },
  {
   "cell_type": "markdown",
   "id": "bc37bf57-27b7-46bc-8c73-d46f4646b484",
   "metadata": {},
   "source": [
    "## Maze matrix"
   ]
  },
  {
   "cell_type": "code",
   "execution_count": 393,
   "id": "a2897024-1c99-4df6-ae91-efbdd7c9032d",
   "metadata": {},
   "outputs": [
    {
     "data": {
      "text/plain": [
       "<matplotlib.colorbar.Colorbar at 0x112fa6a90>"
      ]
     },
     "execution_count": 393,
     "metadata": {},
     "output_type": "execute_result"
    },
    {
     "data": {
      "image/png": "[encoded data removed]",
      "text/plain": [
       "<Figure size 432x288 with 2 Axes>"
      ]
     },
     "metadata": {
      "needs_background": "light"
     },
     "output_type": "display_data"
    }
   ],
   "source": [
    "maze_size = 9\n",
    "maze = np.ones((maze_size,maze_size)) # 1: walkable, 0: wall\n",
    "\n",
    "# Surround with walls (i.e. pad the maze) to avoid special boundary cases\n",
    "maze[:,0] = 0\n",
    "maze[:,-1] = 0\n",
    "maze[0,:] = 0\n",
    "maze[-1,:] = 0\n",
    "\n",
    "# Maze\n",
    "maze[:2,2] = 0\n",
    "maze[3:6,2] = 0\n",
    "maze[7,:5] = 0\n",
    "maze[2:7,4] = 0\n",
    "maze[2:4,6:-2] = 0\n",
    "maze[4,5:-2] = 0\n",
    "maze[6,6:] = 0\n",
    "maze[1,1] = 2 # start\n",
    "maze[-2,-2] = 3 # goal\n",
    "# maze[3:-5,7] = 0\n",
    "plt.clf()\n",
    "plt.imshow(maze, cmap='gray', origin='lower')\n",
    "plt.colorbar()"
   ]
  },
  {
   "cell_type": "markdown",
   "id": "8f0374cf-24c2-4e49-a650-681356b0cb87",
   "metadata": {},
   "source": [
    "## Maze as nodes"
   ]
  },
  {
   "cell_type": "code",
   "execution_count": 394,
   "id": "e3c085d0-444e-4809-8a39-c4d8389ffff5",
   "metadata": {},
   "outputs": [],
   "source": [
    "def init_maze_nodes():\n",
    "    maze_nodes = []\n",
    "    for i in range(maze.shape[0]):\n",
    "        line_nodes = []\n",
    "        for j in range(maze.shape[1]):\n",
    "            if maze[i,j] != 0:\n",
    "                state = [i, j, maze[i,j]]\n",
    "                line_nodes.append( Node(state) )\n",
    "            else: # wall\n",
    "                line_nodes.append( None )\n",
    "        maze_nodes.append(line_nodes)\n",
    "    return maze_nodes\n",
    "# maze_nodes"
   ]
  },
  {
   "cell_type": "code",
   "execution_count": 403,
   "id": "f579d2e6-2178-4ac6-9261-cf169365dd2d",
   "metadata": {},
   "outputs": [],
   "source": [
    "def plot_maze():\n",
    "    maze_plot = np.zeros(maze.shape)\n",
    "    for i in range(len(maze_nodes)):\n",
    "        for j in range(len(maze_nodes[0])):\n",
    "            node = maze_nodes[i][j] \n",
    "            if node == None:\n",
    "                maze_plot[i,j]=0\n",
    "            else:\n",
    "                maze_plot[i,j] = node.state[2]\n",
    "                if node.is_explored:\n",
    "                    maze_plot[i,j] = 4\n",
    "    plt.imshow(maze_plot, origin='lower', vmin=0, vmax=5)"
   ]
  },
  {
   "cell_type": "markdown",
   "id": "9171454f-7605-416d-b93d-e030147742ad",
   "metadata": {},
   "source": [
    "# Solver class"
   ]
  },
  {
   "cell_type": "code",
   "execution_count": 438,
   "id": "1f81965a-00ac-4458-b22b-52cd136d019a",
   "metadata": {},
   "outputs": [],
   "source": [
    "class Solver():\n",
    "    def __init__(self, ini_node, algorithm='depth-first'):\n",
    "        self.frontier = [ini_node]\n",
    "        self.explored = []\n",
    "\n",
    "        if algorithm.lower() == 'depth-first':\n",
    "            self.pop_index = -1 # index of the current node in the frontier. -1= last-in/first out = stack\n",
    "        elif algorithm.lower() == 'breadth-first':\n",
    "            self.pop_index = 0 # first-in/first out = queue\n",
    "        else:\n",
    "            raise ValueError(f\"Unknown algorithm {algorithm}, authorized values are 'depth-first', 'breadth-first'\")\n",
    "    def step(self):\n",
    "        current_node = self.frontier[self.pop_index]\n",
    "        self.frontier.pop(self.pop_index)\n",
    "        current_node.is_explored = True\n",
    "        daughter_nodes = current_node.expand()\n",
    "        \n",
    "        goal_reached = sum([node.is_goal() for node in daughter_nodes])>0\n",
    "\n",
    "        if goal_reached:\n",
    "            print(\"goal_reached!!\")\n",
    "            return True\n",
    "        self.frontier += daughter_nodes\n",
    "        if len(self.frontier) == 0:\n",
    "            print(\"No solution found\")\n",
    "            \n",
    "        return False"
   ]
  },
  {
   "cell_type": "markdown",
   "id": "72346da8-53fd-496c-bd9c-21c507775db3",
   "metadata": {},
   "source": [
    "# Solve"
   ]
  },
  {
   "cell_type": "code",
   "execution_count": 440,
   "id": "bb75bba0-e874-4b01-8e3a-37b6814bb262",
   "metadata": {},
   "outputs": [
    {
     "name": "stdout",
     "output_type": "stream",
     "text": [
      "goal_reached!!\n"
     ]
    },
    {
     "data": {
      "image/png": "[encoded data removed]",
      "text/plain": [
       "<Figure size 432x288 with 1 Axes>"
      ]
     },
     "metadata": {
      "needs_background": "light"
     },
     "output_type": "display_data"
    }
   ],
   "source": [
    "from IPython.display import clear_output\n",
    "maze_nodes = init_maze_nodes()\n",
    "solver = Solver(maze_nodes[1][1], algorithm=\"breadth-first\")\n",
    "\n",
    "fig = plt.figure()\n",
    "for i in range(40):\n",
    "    clear_output(wait=True)\n",
    "    goal_found = solver.step()\n",
    "#     print(goal_found)\n",
    "    plot_maze()\n",
    "#     display(fig)\n",
    "    plt.pause(0.0001)\n",
    "    if goal_found:\n",
    "        break"
   ]
  }
 ],
 "metadata": {
  "kernelspec": {
   "display_name": "Python 3",
   "language": "python",
   "name": "python3"
  },
  "language_info": {
   "codemirror_mode": {
    "name": "ipython",
    "version": 3
   },
   "file_extension": ".py",
   "mimetype": "text/x-python",
   "name": "python",
   "nbconvert_exporter": "python",
   "pygments_lexer": "ipython3",
   "version": "3.9.6"
  }
 },
 "nbformat": 4,
 "nbformat_minor": 5
}
