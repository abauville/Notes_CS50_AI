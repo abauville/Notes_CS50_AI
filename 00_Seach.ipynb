{
 "cells": [
  {
   "cell_type": "markdown",
   "id": "d71edac7-229a-4abf-88bd-0fc8fd56d4f9",
   "metadata": {},
   "source": [
    "# Lesson 0 - Search"
   ]
  },
  {
   "cell_type": "markdown",
   "id": "925c241c-866e-4bff-a2d8-e6207b0e433c",
   "metadata": {},
   "source": [
    "Official course notes: https://cs50.harvard.edu/ai/2020/notes/0/\n",
    "\n"
   ]
  },
  {
   "cell_type": "markdown",
   "id": "47305981-0793-4e97-ad3e-0b3c5e8d44da",
   "metadata": {},
   "source": [
    "# Search\n",
    "\n",
    "Search problems involve an agent that is given an *initial state* and a *goal state*, and it returns a solution of how to get from the former to the latter.\n",
    "\n",
    "## Definitions\n",
    "\n",
    "- **Agent**: an entity that perceives its environment and acts upon that environment. In a navigator app, for example, the agent would be a representation of a car that needs to decide on which actions to take to arrive at the destination.\n",
    "- **State**: a configuration of an agent in its environment. For example, in a 15 puzzle, a state is any one way that all the numbers are arranged on the board.\n",
    "- **Initial State**: the state from which the search algorithm starts. In a navigator app, that would be the current location.\n",
    "- **Goal State**: the state at which the search algorithm can stop. In a navigator app, that would be the final (desired) location.\n",
    "- **Actions**: choices that can be made in a state. More precisely, actions can be defined as a function. Upon receiving state `s` as input, `Actions(s)` returns as output the set of actions that can be executed in state s. For example, in a 15 puzzle, the actions of a given state are the ways you can slide squares in the current configuration (4 if the empty square is in the middle, 3 if next to a side, 2 if in the corner).\n",
    "- **Transition Model**: a description of what state results from performing any applicable action in any state. More precisely, the transition model can be defined as a function. Upon receiving state `s` and action `a` as input, `Results(s, a)` returns the state resulting from performing action `a` in state `s`. For example, given a certain configuration of a 15 puzzle (state `s`), moving a square in any direction (action `a`) will bring to a new configuration of the puzzle (the new state).\n",
    "- **State Space**: the set of all states reachable from the initial state by any sequence of actions. For example, in a 15 puzzle, the state space consists of all the 16!/2 configurations on the board that can be reached from any initial state. The state space can be visualized as a directed graph with states, represented as nodes, and actions, represented as arrows between nodes.\n",
    "- **Goal Test**: The condition that determines whether a given state is a goal state. For example, in a navigator app, the goal test would be whether the current location of the agent (the representation of the car) is at the destination. If it is — problem solved. If it’s not — we continue searching.\n",
    "- **Path Cost**: A numerical cost associated with a given path. For example, a navigator app does not simply bring you to your goal; it does so while minimizing the path cost, finding the fastest way possible for you to get to your goal state.\n",
    "- **Solution**: a sequence of actions that leads from the initial state to the goal state.\n",
    "- **Optimal Solution**: a solution that has the lowest path cost among all solutions."
   ]
  },
  {
   "cell_type": "markdown",
   "id": "ca19dbcc-6924-4498-8311-a21058a760ea",
   "metadata": {},
   "source": [
    "# Solving search problems\n",
    "\n",
    "## The nodes\n",
    "In a search process, data is often stored in a node, a data structure that contains the following data:\n",
    "\n",
    "- A **state**\n",
    "- Its **parent node**, through which the current node was generated\n",
    "- The **action** that was applied to the state of the parent to get to the current node\n",
    "- The **path cost** from the initial state to this node\n",
    "\n",
    "Nodes contain information that makes them very useful for the purposes of search algorithms. They contain a **state**, which can be checked using the goal test to see if it is the final state. If it is, the node’s **path cost** can be compared to other nodes’ path costs, which allows choosing the optimal solution. Once the node is chosen, by virtue of storing the **parent node** and the **action** that led from the parent to the current node, it is possible to trace back every step of the way from the initial state to this node, and this sequence of actions is the solution."
   ]
  },
  {
   "cell_type": "markdown",
   "id": "e345a636-c93b-4eea-8dbe-297f851407fe",
   "metadata": {},
   "source": [
    "## The frontier\n",
    "\n",
    "However, nodes are simply a data structure — they don’t search, they hold information. To actually search, we use the **frontier**, the mechanism that “manages” the nodes. The frontier starts by containing an initial state and an empty set of explored items, and then repeats the following actions until a solution is reached:\n",
    "\n",
    "```\n",
    "Repeat:\n",
    "\n",
    "If the frontier is empty:\n",
    "    Stop. There is no solution to the problem.\n",
    "\n",
    "Remove a node from the frontier. This is the node that will be considered.\n",
    "\n",
    "If the node contains the goal state:\n",
    "    Return the solution. \n",
    "    Stop.\n",
    "Else:\n",
    "    Add the current node to the explored set.\n",
    "    Expand the node (find all the new nodes that could be reached from this node), \n",
    "    and add resulting nodes to the frontier, if they're not already in the frontier or in the explored set\n",
    "    \n",
    "```\n",
    "\n",
    "If the frontier several nodes we have a choice in which node to pick next. The way we choose this node gives rise to several variants of the search algorithms. "
   ]
  },
  {
   "cell_type": "markdown",
   "id": "d1c7ca8c-0541-4b20-b0b9-c890986e12f5",
   "metadata": {},
   "source": [
    "# Depth-first search\n",
    "\n",
    "\n",
    "\n",
    "State space example (represented as a graph where nodes are states and connections are actions), start at A, goal at E:\n",
    "\n",
    "```\n",
    "       /-> C -> E\n",
    "A -> B\n",
    "       \\-> D -> F\n",
    "```\n",
    "If the frontier is implemented as a **stack** then we start on A, explore it, go to B, then add C and D. Since D was added last, we next expand D and add F to the stack. Since there is no node after F we explore what's left in the stack: C, then go to E. Thus, depth-first search always expands the deepest node in the frontier.\n",
    "\n",
    "|Step | Frontier | Explored |\n",
    "|-----|----------|----------|\n",
    "| 1   | A        |          |\n",
    "| 2   | B        | A        |\n",
    "| 3   | C D      | A B      |\n",
    "| 4   | C F      | A B D    |\n",
    "| 5   | C        | A B D F  |\n",
    "| 6   | E        | A B D F C|\n",
    "\n",
    "Definition: A **stack** is a data structure where the last element added is the first one to be extracted (last in/first out)"
   ]
  },
  {
   "cell_type": "markdown",
   "id": "52bb920d-92e0-4865-9922-46c1e40266c8",
   "metadata": {},
   "source": [
    "# Breadth-first search\n",
    "\n",
    "If, on the contrary, the frontier is implemented as a queue (first in/first out), then the shallowest node in the frontier is expanded. For our example, the steps are as follows:\n",
    "\n",
    "|Step  | Frontier | Explored |\n",
    "|------|----------|----------|\n",
    "| 1    | A        |          |\n",
    "| 2    | B        | A        |\n",
    "| 3    | C D      | A B      |\n",
    "| 4    | D F      | A B C    |\n",
    "| 5    | F E      | A B C D  |\n",
    "| 6    | E        | A B C D F|\n",
    "\n",
    "Thus, the algorithm explores nodes by levels. First it explores all nodes at a distance that are one node away from the start (level 1), then 2 nodes away (level 2), etc..."
   ]
  },
  {
   "cell_type": "code",
   "execution_count": null,
   "id": "e43ac6c1-8ab5-4a36-9a3c-fcc0fc6f9292",
   "metadata": {},
   "outputs": [],
   "source": []
  }
 ],
 "metadata": {
  "kernelspec": {
   "display_name": "Python 3",
   "language": "python",
   "name": "python3"
  },
  "language_info": {
   "codemirror_mode": {
    "name": "ipython",
    "version": 3
   },
   "file_extension": ".py",
   "mimetype": "text/x-python",
   "name": "python",
   "nbconvert_exporter": "python",
   "pygments_lexer": "ipython3",
   "version": "3.9.6"
  }
 },
 "nbformat": 4,
 "nbformat_minor": 5
}
